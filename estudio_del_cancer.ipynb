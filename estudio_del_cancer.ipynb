{
  "nbformat": 4,
  "nbformat_minor": 0,
  "metadata": {
    "colab": {
      "provenance": [],
      "authorship_tag": "ABX9TyMKxr31Ld/1MYb80LqEe2k0",
      "include_colab_link": true
    },
    "kernelspec": {
      "name": "python3",
      "display_name": "Python 3"
    },
    "language_info": {
      "name": "python"
    }
  },
  "cells": [
    {
      "cell_type": "markdown",
      "metadata": {
        "id": "view-in-github",
        "colab_type": "text"
      },
      "source": [
        "<a href=\"https://colab.research.google.com/github/adrianestebanrodriguez/Repositorio_Datasets/blob/main/estudio_del_cancer.ipynb\" target=\"_parent\"><img src=\"https://colab.research.google.com/assets/colab-badge.svg\" alt=\"Open In Colab\"/></a>"
      ]
    },
    {
      "cell_type": "markdown",
      "source": [
        "##Nombre del Proyecto: Identificación de cáncer con mayor incidencia en el departamento de Antioquia\n",
        "\n",
        "**Datos obtenidos de:** Instituto nacional de cancerología\n",
        "\n",
        "##Objetivo del análisis:\n",
        "Identificar el tipo de cáncer con mayor crecimiento en el departamento de Antioquia a partir de un dataset de información desde el año 1997 a 2022\n",
        "\n",
        "##Alcance:\n",
        "Realizar una proyección lineal simple a partir del crecimiento promedio de casos del cámcer con mayor incidencia en Antioquia para el año 2026"
      ],
      "metadata": {
        "id": "jStLkZ4QAL5U"
      }
    },
    {
      "cell_type": "code",
      "source": [
        "import pandas as pd\n",
        "import numpy as np\n",
        "import re # Para expresiones regulares en la limpieza de texto\n",
        "\n",
        "# 1. Cargar el dataset\n",
        "try:\n",
        "    # Asume que el archivo Excel está en la misma carpeta o ruta accesible\n",
        "    df = pd.read_excel('dataset cancer.xlsx')\n",
        "except FileNotFoundError:\n",
        "    print(\"Error: Asegúrate de que el archivo 'dataset cancer.xlsx' esté en la ruta correcta.\")\n",
        "    # Si estás ejecutando esto en un entorno donde el archivo está cargado, elimina este bloque 'else'\n",
        "    # y simplemente usa df = pd.read_excel('dataset cancer.xlsx')\n",
        "    # No se crea un DataFrame de ejemplo aquí, ya que el error indica que el archivo no se encontró.\n",
        "\n",
        "\n",
        "# Identificar las columnas de años (series de tiempo)\n",
        "columnas_años = [col for col in df.columns if str(col).isdigit() and 1997 <= int(col) <= 2023]\n",
        "\n",
        "## 1. Tratamiento de Valores Faltantes (Guiones)\n",
        "print(\"Paso 1: Reemplazando guiones ('-') y guiones con espacios (' - ') con 0 en las columnas de años...\")\n",
        "df[columnas_años] = df[columnas_años].replace(['-', ' - '], '0')\n",
        "\n",
        "## 2. Normalización y Limpieza de Columnas Categóricas\n",
        "\n",
        "# 2a. Limpiar la columna 'Tipo de cancer' extrayendo solo el tipo de cáncer.\n",
        "# Se usa regex para remover el patrón del lugar al final de la cadena, asumiendo que el lugar\n",
        "# siempre va al final y está separado por un espacio.\n",
        "\n",
        "def limpiar_tipo_cancer(texto):\n",
        "    # Patrón para eliminar 'Bogotá D.C', 'Bogota D.C', 'Antioquia', etc., al final de la cadena\n",
        "    return re.sub(r'\\s+(Bogot[áa]\\s+D\\.?C?\\.?|Antioquia|Bogota)\\s*$', '', texto).strip()\n",
        "\n",
        "df['Tipo_Cancer_Limpio'] = df['Tipo de cancer'].apply(limpiar_tipo_cancer)\n",
        "\n",
        "# 2b. Limpiar y estandarizar la columna 'Lugar'\n",
        "print(\"Paso 2: Estandarizando nombres en las columnas 'Lugar' y 'Tipo de cancer'...\")\n",
        "df['Lugar'] = df['Lugar'].str.replace('Bogota', 'Bogotá D.C', case=False, regex=False).str.strip()\n",
        "\n",
        "\n",
        "## 3. Conversión de Tipo de Datos\n",
        "print(\"Paso 3: Convirtiendo columnas de años a tipo entero (Integer)...\")\n",
        "# Forzar la conversión de las columnas de años a tipo numérico entero\n",
        "df[columnas_años] = df[columnas_años].astype(int)\n",
        "\n",
        "\n",
        "# Eliminar la columna original 'Tipo de cancer' que ahora está duplicada y sucia\n",
        "df = df.drop(columns=['Tipo de cancer'])\n",
        "df = df.rename(columns={'Tipo_Cancer_Limpio': 'Tipo de cancer'})\n",
        "\n",
        "## 4. Estructuración para Análisis (Formato Largo)\n",
        "print(\"Paso 4: Transformando el dataset de formato Ancho a formato Largo ('Long Format')...\")\n",
        "df_long = df.melt(\n",
        "    id_vars=['Tipo de cancer', 'Lugar', 'Sexo'],\n",
        "    value_vars=columnas_años,\n",
        "    var_name='Año',\n",
        "    value_name='Casos_Incidencia'\n",
        ")\n",
        "\n",
        "# Asegurar que la columna 'Año' sea de tipo entero después de la transformación\n",
        "df_long['Año'] = df_long['Año'].astype(int)\n",
        "\n",
        "# 5. Ordenar el dataset final por ubicación, tipo de cáncer y año\n",
        "df_long = df_long.sort_values(by=['Lugar', 'Tipo de cancer', 'Sexo', 'Año']).reset_index(drop=True)\n",
        "\n",
        "# Mostrar las primeras filas del dataset limpio y transformado\n",
        "print(\"\\n--- Vista Previa del Dataset Limpio y Transformado (Formato Largo) ---\")\n",
        "print(df_long.head(10).to_markdown(index=False))\n",
        "\n",
        "print(\"\\nLimpieza y transformación completada. El dataset está listo para el análisis.\")\n",
        "print(f\"Columnas finales: {list(df_long.columns)}\")"
      ],
      "metadata": {
        "colab": {
          "base_uri": "https://localhost:8080/"
        },
        "id": "acwjOr2M2o46",
        "outputId": "17eed76c-1531-43d1-9339-1f5343fdf550"
      },
      "execution_count": 52,
      "outputs": [
        {
          "output_type": "stream",
          "name": "stdout",
          "text": [
            "Paso 1: Reemplazando guiones ('-') y guiones con espacios (' - ') con 0 en las columnas de años...\n",
            "Paso 2: Estandarizando nombres en las columnas 'Lugar' y 'Tipo de cancer'...\n",
            "Paso 3: Convirtiendo columnas de años a tipo entero (Integer)...\n",
            "Paso 4: Transformando el dataset de formato Ancho a formato Largo ('Long Format')...\n",
            "\n",
            "--- Vista Previa del Dataset Limpio y Transformado (Formato Largo) ---\n",
            "| Tipo de cancer   | Lugar     | Sexo   |   Año |   Casos_Incidencia |\n",
            "|:-----------------|:----------|:-------|------:|-------------------:|\n",
            "| Colon            | Antioquia | Hombre |  1997 |                 98 |\n",
            "| Colon            | Antioquia | Hombre |  1998 |                 88 |\n",
            "| Colon            | Antioquia | Hombre |  1999 |                 76 |\n",
            "| Colon            | Antioquia | Hombre |  2000 |                 85 |\n",
            "| Colon            | Antioquia | Hombre |  2001 |                102 |\n",
            "| Colon            | Antioquia | Hombre |  2002 |                 93 |\n",
            "| Colon            | Antioquia | Hombre |  2003 |                 97 |\n",
            "| Colon            | Antioquia | Hombre |  2004 |                119 |\n",
            "| Colon            | Antioquia | Hombre |  2005 |                123 |\n",
            "| Colon            | Antioquia | Hombre |  2006 |                167 |\n",
            "\n",
            "Limpieza y transformación completada. El dataset está listo para el análisis.\n",
            "Columnas finales: ['Tipo de cancer', 'Lugar', 'Sexo', 'Año', 'Casos_Incidencia']\n"
          ]
        }
      ]
    },
    {
      "cell_type": "code",
      "source": [
        "## Medidas de tendencia central\n",
        "print(df_long.describe())"
      ],
      "metadata": {
        "colab": {
          "base_uri": "https://localhost:8080/"
        },
        "id": "y26xqAkj5RTu",
        "outputId": "66ddde50-1c47-4d45-c0c0-3a7c5e011770"
      },
      "execution_count": 53,
      "outputs": [
        {
          "output_type": "stream",
          "name": "stdout",
          "text": [
            "               Año  Casos_Incidencia\n",
            "count   864.000000        864.000000\n",
            "mean   2010.000000        100.275463\n",
            "std       7.793392        126.863886\n",
            "min    1997.000000          0.000000\n",
            "25%    2003.000000         11.000000\n",
            "50%    2010.000000         31.500000\n",
            "75%    2017.000000        164.250000\n",
            "max    2023.000000        591.000000\n"
          ]
        }
      ]
    },
    {
      "cell_type": "code",
      "source": [
        "# Filtrar los datos para los años cada 5 años\n",
        "años_seleccionados = range(df_long['Año'].min(), df_long['Año'].max() + 1, 5)\n",
        "df_cada_cinco_años = df_long[df_long['Año'].isin(años_seleccionados)].copy()\n",
        "\n",
        "# Agrupar por Tipo de cancer y Año y sumar Casos_Incidencia\n",
        "incidencia_cada_cinco_años = df_cada_cinco_años.groupby(['Tipo de cancer', 'Año'])['Casos_Incidencia'].sum().reset_index()\n",
        "\n",
        "# Mostrar el resultado\n",
        "print(\"\\n--- Total de Casos de Incidencia por Tipo de Cáncer Cada Cinco Años ---\")\n",
        "print(incidencia_cada_cinco_años.to_markdown(index=False))"
      ],
      "metadata": {
        "colab": {
          "base_uri": "https://localhost:8080/"
        },
        "id": "Jg5zezIz5n2x",
        "outputId": "e30aa5c5-9f47-44e2-a069-871483154112"
      },
      "execution_count": 54,
      "outputs": [
        {
          "output_type": "stream",
          "name": "stdout",
          "text": [
            "\n",
            "--- Total de Casos de Incidencia por Tipo de Cáncer Cada Cinco Años ---\n",
            "| Tipo de cancer    |   Año |   Casos_Incidencia |\n",
            "|:------------------|------:|-------------------:|\n",
            "| Colon             |  1997 |                384 |\n",
            "| Colon             |  2002 |                472 |\n",
            "| Colon             |  2007 |                640 |\n",
            "| Colon             |  2012 |                812 |\n",
            "| Colon             |  2017 |               1043 |\n",
            "| Colon             |  2022 |               1151 |\n",
            "| Estómago          |  1997 |               1110 |\n",
            "| Estómago          |  2002 |               1294 |\n",
            "| Estómago          |  2007 |               1414 |\n",
            "| Estómago          |  2012 |               1453 |\n",
            "| Estómago          |  2017 |               1666 |\n",
            "| Estómago          |  2022 |               1689 |\n",
            "| Hueso             |  1997 |                 76 |\n",
            "| Hueso             |  2002 |                 77 |\n",
            "| Hueso             |  2007 |                 71 |\n",
            "| Hueso             |  2012 |                 96 |\n",
            "| Hueso             |  2017 |                 93 |\n",
            "| Hueso             |  2022 |                 95 |\n",
            "| Hígado            |  1997 |                389 |\n",
            "| Hígado            |  2002 |                508 |\n",
            "| Hígado            |  2007 |                518 |\n",
            "| Hígado            |  2012 |                591 |\n",
            "| Hígado            |  2017 |                644 |\n",
            "| Hígado            |  2022 |                686 |\n",
            "| Intestino delgado |  1997 |                 13 |\n",
            "| Intestino delgado |  2002 |                  7 |\n",
            "| Intestino delgado |  2007 |                 27 |\n",
            "| Intestino delgado |  2012 |                 41 |\n",
            "| Intestino delgado |  2017 |                 44 |\n",
            "| Intestino delgado |  2022 |                 55 |\n",
            "| Ojo               |  1997 |                  9 |\n",
            "| Ojo               |  2002 |                  4 |\n",
            "| Ojo               |  2007 |                 12 |\n",
            "| Ojo               |  2012 |                  8 |\n",
            "| Ojo               |  2017 |                 11 |\n",
            "| Ojo               |  2022 |                 16 |\n",
            "| Riñón             |  1997 |                 95 |\n",
            "| Riñón             |  2002 |                103 |\n",
            "| Riñón             |  2007 |                123 |\n",
            "| Riñón             |  2012 |                185 |\n",
            "| Riñón             |  2017 |                247 |\n",
            "| Riñón             |  2022 |                242 |\n",
            "| Tiroides          |  1997 |                 42 |\n",
            "| Tiroides          |  2002 |                 57 |\n",
            "| Tiroides          |  2007 |                 93 |\n",
            "| Tiroides          |  2012 |                 97 |\n",
            "| Tiroides          |  2017 |                142 |\n",
            "| Tiroides          |  2022 |                173 |\n"
          ]
        }
      ]
    },
    {
      "cell_type": "code",
      "metadata": {
        "colab": {
          "base_uri": "https://localhost:8080/"
        },
        "id": "adda64b6",
        "outputId": "9ba99a57-ec72-4af7-842a-38d88550a0b6"
      },
      "source": [
        "# Calcular la media de casos de incidencia por tipo de cáncer en el DataFrame quinquenal\n",
        "promedio_incidencia_quinquenal = incidencia_cada_cinco_años.groupby('Tipo de cancer')['Casos_Incidencia'].mean().reset_index()\n",
        "\n",
        "# Ordenar los resultados por la media de casos de forma descendente\n",
        "promedio_incidencia_quinquenal = promedio_incidencia_quinquenal.sort_values(by='Casos_Incidencia', ascending=False)\n",
        "\n",
        "# Mostrar el resultado\n",
        "print(\"\\n--- Promedio de Casos de Incidencia por Tipo de Cáncer (Cada Cinco Años) ---\")\n",
        "print(promedio_incidencia_quinquenal.to_markdown(index=False))"
      ],
      "execution_count": 57,
      "outputs": [
        {
          "output_type": "stream",
          "name": "stdout",
          "text": [
            "\n",
            "--- Promedio de Casos de Incidencia por Tipo de Cáncer (Cada Cinco Años) ---\n",
            "| Tipo de cancer    |   Casos_Incidencia |\n",
            "|:------------------|-------------------:|\n",
            "| Estómago          |          1437.67   |\n",
            "| Colon             |           750.333  |\n",
            "| Hígado            |           556      |\n",
            "| Riñón             |           165.833  |\n",
            "| Tiroides          |           100.667  |\n",
            "| Hueso             |            84.6667 |\n",
            "| Intestino delgado |            31.1667 |\n",
            "| Ojo               |            10      |\n"
          ]
        }
      ]
    },
    {
      "cell_type": "code",
      "source": [
        "# Agrupar por Lugar y Tipo de cancer y sumar los Casos_Incidencia\n",
        "incidencia_por_lugar_tipo = df_long.groupby(['Lugar', 'Tipo de cancer'])['Casos_Incidencia'].sum().reset_index()\n",
        "\n",
        "# Encontrar el tipo de cáncer más común por lugar (el que tiene el mayor total de casos)\n",
        "# Para cada lugar, ordenar por Casos_Incidencia descendente y tomar el primero\n",
        "tipos_cancer_mas_comunes_por_lugar = incidencia_por_lugar_tipo.loc[incidencia_por_lugar_tipo.groupby('Lugar')['Casos_Incidencia'].idxmax()].reset_index(drop=True)\n",
        "\n",
        "# Mostrar el resultado\n",
        "print(\"\\n--- Tipo de Cáncer Más Común por Lugar (Basado en el Total de Casos de Incidencia) ---\")\n",
        "print(tipos_cancer_mas_comunes_por_lugar.to_markdown(index=False))\n",
        "\n",
        "print(\"\\nNota: Este resultado muestra el tipo de cáncer con el mayor número total de casos de incidencia acumulados en todo el período para cada lugar.\")"
      ],
      "metadata": {
        "colab": {
          "base_uri": "https://localhost:8080/"
        },
        "id": "tmJ51LqT7c9r",
        "outputId": "951cfbf4-bbad-4572-ada9-bfcc4c024f45"
      },
      "execution_count": 58,
      "outputs": [
        {
          "output_type": "stream",
          "name": "stdout",
          "text": [
            "\n",
            "--- Tipo de Cáncer Más Común por Lugar (Basado en el Total de Casos de Incidencia) ---\n",
            "| Lugar      | Tipo de cancer   |   Casos_Incidencia |\n",
            "|:-----------|:-----------------|-------------------:|\n",
            "| Antioquia  | Estómago         |              17216 |\n",
            "| Bogotá D.C | Estómago         |              21764 |\n",
            "\n",
            "Nota: Este resultado muestra el tipo de cáncer con el mayor número total de casos de incidencia acumulados en todo el período para cada lugar.\n"
          ]
        }
      ]
    },
    {
      "cell_type": "markdown",
      "metadata": {
        "id": "ae5a6537"
      },
      "source": [
        "# Tarea\n",
        "Analizar el tipo de cáncer con mayor crecimiento interanual de casos en Antioquia utilizando el DataFrame `df_long`."
      ]
    },
    {
      "cell_type": "markdown",
      "metadata": {
        "id": "ed291f72"
      },
      "source": [
        "## Filtrar datos por lugar\n",
        "\n",
        "### Acción realizada:\n",
        "Se hace un Filtrado del DataFrame `df_long` para incluir solo los datos correspondientes a \"Antioquia\".\n"
      ]
    },
    {
      "cell_type": "code",
      "metadata": {
        "colab": {
          "base_uri": "https://localhost:8080/"
        },
        "id": "97a970fc",
        "outputId": "b11924d8-4a5e-442d-f67c-6975b07d7be4"
      },
      "source": [
        "##Se hacce un filtrado de las incidencias de cáncer por año sólo en Antioquia\n",
        "df_antioquia = df_long[df_long['Lugar'] == 'Antioquia'].copy()\n",
        "print(\"DataFrame filtrado para Antioquia:\")\n",
        "print(df_antioquia.head().to_markdown(index=False))"
      ],
      "execution_count": 61,
      "outputs": [
        {
          "output_type": "stream",
          "name": "stdout",
          "text": [
            "DataFrame filtrado para Antioquia:\n",
            "| Tipo de cancer   | Lugar     | Sexo   |   Año |   Casos_Incidencia |\n",
            "|:-----------------|:----------|:-------|------:|-------------------:|\n",
            "| Colon            | Antioquia | Hombre |  1997 |                 98 |\n",
            "| Colon            | Antioquia | Hombre |  1998 |                 88 |\n",
            "| Colon            | Antioquia | Hombre |  1999 |                 76 |\n",
            "| Colon            | Antioquia | Hombre |  2000 |                 85 |\n",
            "| Colon            | Antioquia | Hombre |  2001 |                102 |\n"
          ]
        }
      ]
    },
    {
      "cell_type": "markdown",
      "metadata": {
        "id": "a26001ea"
      },
      "source": [
        "## Calcular cambio anual\n",
        "\n",
        "### Acción realizada:\n",
        "Para cada tipo de cáncer en Antioquia, calcular la diferencia en los casos de incidencia entre años consecutivos.\n"
      ]
    },
    {
      "cell_type": "code",
      "metadata": {
        "colab": {
          "base_uri": "https://localhost:8080/"
        },
        "id": "87d805db",
        "outputId": "bf17599f-9796-48c2-8d4b-0f281efb8fdd"
      },
      "source": [
        "##Ordene el DataFrame filtrado por 'Tipo de cáncer', 'Sexo' y 'Año' y luego calcule la diferencia interanual en 'Casos_Incidencia' para cada grupo.\n",
        "df_antioquia = df_antioquia.sort_values(by=['Tipo de cancer', 'Sexo', 'Año'])\n",
        "df_antioquia['Cambio_Anual'] = df_antioquia.groupby(['Tipo de cancer', 'Sexo'])['Casos_Incidencia'].diff()\n",
        "print(df_antioquia.head().to_markdown(index=False))"
      ],
      "execution_count": 63,
      "outputs": [
        {
          "output_type": "stream",
          "name": "stdout",
          "text": [
            "| Tipo de cancer   | Lugar     | Sexo   |   Año |   Casos_Incidencia |   Cambio_Anual |\n",
            "|:-----------------|:----------|:-------|------:|-------------------:|---------------:|\n",
            "| Colon            | Antioquia | Hombre |  1997 |                 98 |            nan |\n",
            "| Colon            | Antioquia | Hombre |  1998 |                 88 |            -10 |\n",
            "| Colon            | Antioquia | Hombre |  1999 |                 76 |            -12 |\n",
            "| Colon            | Antioquia | Hombre |  2000 |                 85 |              9 |\n",
            "| Colon            | Antioquia | Hombre |  2001 |                102 |             17 |\n"
          ]
        }
      ]
    },
    {
      "cell_type": "markdown",
      "metadata": {
        "id": "5cc233f3"
      },
      "source": [
        "## Calcular crecimiento promedio\n",
        "\n",
        "### Acción realizada:\n",
        "Calcular el crecimiento promedio anual para cada tipo de cáncer en Antioquia.\n"
      ]
    },
    {
      "cell_type": "code",
      "metadata": {
        "colab": {
          "base_uri": "https://localhost:8080/"
        },
        "id": "b2b39c19",
        "outputId": "b162bf84-5d8e-4d88-dbae-f07af4958d58"
      },
      "source": [
        "##Calcula el cambio anual absoluto y luego agrupa por 'Tipo de cáncer' para encontrar el cambio absoluto promedio, almacenando el resultado en un nuevo DataFrame.\n",
        "df_antioquia['Cambio_Anual_Abs'] = df_antioquia['Cambio_Anual'].abs()\n",
        "crecimiento_promedio_antioquia = df_antioquia.groupby('Tipo de cancer')['Cambio_Anual_Abs'].mean().reset_index()\n",
        "print(\"\\n--- Crecimiento Promedio Anual por Tipo de Cáncer en Antioquia (Valor Absoluto) ---\")\n",
        "print(crecimiento_promedio_antioquia.head().to_markdown(index=False))"
      ],
      "execution_count": 71,
      "outputs": [
        {
          "output_type": "stream",
          "name": "stdout",
          "text": [
            "\n",
            "--- Crecimiento Promedio Anual por Tipo de Cáncer en Antioquia (Valor Absoluto) ---\n",
            "| Tipo de cancer    |   Cambio_Anual_Abs |\n",
            "|:------------------|-------------------:|\n",
            "| Colon             |           18.5     |\n",
            "| Estómago          |           21.4423  |\n",
            "| Hueso             |            4.86538 |\n",
            "| Hígado            |           17.2115  |\n",
            "| Intestino delgado |            3.30769 |\n"
          ]
        }
      ]
    },
    {
      "cell_type": "markdown",
      "metadata": {
        "id": "052ab503"
      },
      "source": [
        "## Identificar cáncer de mayor crecimiento\n",
        "\n",
        "### Acción realizada:\n",
        "Identificar el tipo de cáncer con el mayor crecimiento promedio anual.\n"
      ]
    },
    {
      "cell_type": "code",
      "metadata": {
        "colab": {
          "base_uri": "https://localhost:8080/"
        },
        "id": "41401b9f",
        "outputId": "5df2e324-abbf-4a05-df90-5990166928c6"
      },
      "source": [
        "##Para identificar el tipo de cáncer con el mayor crecimiento promedio anual, ordeno el DataFrame `crecimiento promedio antioquia` por 'Cambio_Anual_Abs' en orden descendente y selecciono la fila superior.\n",
        "cancer_mayor_crecimiento = crecimiento_promedio_antioquia.sort_values(by='Cambio_Anual_Abs', ascending=False).iloc[0]\n",
        "print(\"\\n--- Tipo de Cáncer con el Mayor Crecimiento Promedio Anual en Antioquia ---\")\n",
        "print(cancer_mayor_crecimiento.to_markdown())"
      ],
      "execution_count": 68,
      "outputs": [
        {
          "output_type": "stream",
          "name": "stdout",
          "text": [
            "\n",
            "--- Tipo de Cáncer con el Mayor Crecimiento Promedio Anual en Antioquia ---\n",
            "|                  | 1                  |\n",
            "|:-----------------|:-------------------|\n",
            "| Tipo de cancer   | Estómago           |\n",
            "| Cambio_Anual_Abs | 21.442307692307693 |\n"
          ]
        }
      ]
    },
    {
      "cell_type": "code",
      "source": [
        "# Identificar el tipo de cáncer de mayor crecimiento y su crecimiento promedio anual\n",
        "tipo_cancer_mayor_crecimiento = cancer_mayor_crecimiento['Tipo de cancer']\n",
        "crecimiento_promedio = cancer_mayor_crecimiento['Cambio_Anual_Abs']\n",
        "\n",
        "# Filtrar el DataFrame para obtener solo los datos del tipo de cáncer de mayor crecimiento en Antioquia\n",
        "df_antioquia_mayor_crecimiento = df_antioquia[df_antioquia['Tipo de cancer'] == tipo_cancer_mayor_crecimiento].copy()\n",
        "\n",
        "# Obtener el número de casos en el último año disponible para ese tipo de cáncer en Antioquia\n",
        "ultimo_año_datos = df_antioquia_mayor_crecimiento['Año'].max()\n",
        "casos_ultimo_año = df_antioquia_mayor_crecimiento[df_antioquia_mayor_crecimiento['Año'] == ultimo_año_datos]['Casos_Incidencia'].sum()\n",
        "\n",
        "\n",
        "# Proyectar los casos para el año 2026 (asumiendo un crecimiento lineal basado en el promedio)\n",
        "años_a_proyectar = 2026 - ultimo_año_datos\n",
        "proyeccion_2026 = casos_ultimo_año + (crecimiento_promedio * años_a_proyectar)\n",
        "\n",
        "print(f\"\\n--- Proyección de Casos de {tipo_cancer_mayor_crecimiento} en Antioquia para 2026 ---\")\n",
        "print(f\"Basado en los datos hasta {ultimo_año_datos} y un crecimiento promedio anual de {crecimiento_promedio:.2f} casos:\")\n",
        "print(f\"Proyección de casos para 2026: aproximadamente {proyeccion_2026:.0f}\")\n",
        "\n",
        "print(\"\\nNota: Esta es una proyección simple y lineal que asume que las tendencias pasadas continuarán. Factores externos pueden influir en los resultados reales.\")"
      ],
      "metadata": {
        "colab": {
          "base_uri": "https://localhost:8080/"
        },
        "id": "ObSGkZawBGOX",
        "outputId": "1575f674-29d2-4024-e887-967c52c713e3"
      },
      "execution_count": 74,
      "outputs": [
        {
          "output_type": "stream",
          "name": "stdout",
          "text": [
            "\n",
            "--- Proyección de Casos de Estómago en Antioquia para 2026 ---\n",
            "Basado en los datos hasta 2023 y un crecimiento promedio anual de 21.44 casos:\n",
            "Proyección de casos para 2026: aproximadamente 764\n",
            "\n",
            "Nota: Esta es una proyección simple y lineal que asume que las tendencias pasadas continuarán. Factores externos pueden influir en los resultados reales.\n"
          ]
        }
      ]
    },
    {
      "cell_type": "code",
      "metadata": {
        "colab": {
          "base_uri": "https://localhost:8080/",
          "height": 600
        },
        "id": "fdc5fa17",
        "outputId": "cf447732-fa0e-48f7-d2a1-dd0073756b0e"
      },
      "source": [
        "import matplotlib.pyplot as plt\n",
        "import seaborn as sns\n",
        "import pandas as pd\n",
        "\n",
        "# Asegurarse de tener los datos históricos para el tipo de cáncer de mayor crecimiento en Antioquia\n",
        "# (Este DataFrame ya debería existir de pasos anteriores)\n",
        "# df_antioquia_mayor_crecimiento\n",
        "\n",
        "# Crear un DataFrame para la proyección\n",
        "df_proyeccion = pd.DataFrame({\n",
        "    'Tipo de cancer': [tipo_cancer_mayor_crecimiento],\n",
        "    'Lugar': ['Antioquia'],\n",
        "    'Sexo': ['Ambos Sexos'], # Asumimos ambos sexos para la proyección total\n",
        "    'Año': [2026],\n",
        "    'Casos_Incidencia': [proyeccion_2026]\n",
        "})\n",
        "\n",
        "# Sumar los casos históricos por año y tipo de cancer en Antioquia (agregando ambos sexos para la visualización)\n",
        "df_antioquia_mayor_crecimiento_anual = df_antioquia_mayor_crecimiento.groupby(['Tipo de cancer', 'Año'])['Casos_Incidencia'].sum().reset_index()\n",
        "\n",
        "\n",
        "# Combinar los datos históricos con la proyección\n",
        "df_visualizacion = pd.concat([df_antioquia_mayor_crecimiento_anual, df_proyeccion], ignore_index=True)\n",
        "\n",
        "# Ordenar por año para el gráfico\n",
        "df_visualizacion = df_visualizacion.sort_values(by='Año')\n",
        "\n",
        "# Configurar el estilo de Seaborn\n",
        "sns.set_theme(style=\"whitegrid\")\n",
        "\n",
        "# Crear el gráfico de línea\n",
        "plt.figure(figsize=(12, 6))\n",
        "sns.lineplot(data=df_visualizacion, x='Año', y='Casos_Incidencia', marker='o')\n",
        "\n",
        "# Resaltar el punto de proyección\n",
        "plt.scatter(df_proyeccion['Año'], df_proyeccion['Casos_Incidencia'], color='red', s=100, zorder=5, label=f'Proyección {df_proyeccion[\"Año\"].iloc[0]}')\n",
        "\n",
        "# Añadir etiquetas y título\n",
        "plt.title(f'Tendencia Histórica y Proyección de Casos de {tipo_cancer_mayor_crecimiento} en Antioquia')\n",
        "plt.xlabel('Año')\n",
        "plt.ylabel('Número de Casos de Incidencia')\n",
        "plt.xticks(df_visualizacion['Año']) # Asegurar que todos los años se muestren en el eje x\n",
        "plt.legend()\n",
        "plt.grid(True)\n",
        "\n",
        "# Mostrar el gráfico\n",
        "plt.tight_layout()\n",
        "plt.show()"
      ],
      "execution_count": 75,
      "outputs": [
        {
          "output_type": "display_data",
          "data": {
            "text/plain": [
              "<Figure size 1200x600 with 1 Axes>"
            ],
            "image/png": "[encoded data removed]"
          },
          "metadata": {}
        }
      ]
    },
    {
      "cell_type": "markdown",
      "metadata": {
        "id": "40892139"
      },
      "source": [
        "## Mostrar resultado\n",
        "\n",
        "### Acción realizada:\n",
        "Presentar el tipo de cáncer identificado y su crecimiento promedio anual.\n"
      ]
    },
    {
      "cell_type": "code",
      "metadata": {
        "colab": {
          "base_uri": "https://localhost:8080/"
        },
        "id": "42611d79",
        "outputId": "73197e96-93f4-40bb-9c3b-d2b44b1483b8"
      },
      "source": [
        "print(f\"\\n--- Tipo de Cáncer con el Mayor Crecimiento Promedio Anual en Antioquia ---\")\n",
        "print(f\"El tipo de cáncer con el mayor crecimiento promedio anual en Antioquia es '{cancer_mayor_crecimiento['Tipo de cancer']}'\")\n",
        "print(f\"Su crecimiento promedio anual es de aproximadamente {cancer_mayor_crecimiento['Cambio_Anual_Abs']:.2f} casos.\")"
      ],
      "execution_count": 70,
      "outputs": [
        {
          "output_type": "stream",
          "name": "stdout",
          "text": [
            "\n",
            "--- Tipo de Cáncer con el Mayor Crecimiento Promedio Anual en Antioquia ---\n",
            "El tipo de cáncer con el mayor crecimiento promedio anual en Antioquia es 'Estómago'\n",
            "Su crecimiento promedio anual es de aproximadamente 21.44 casos.\n"
          ]
        }
      ]
    },
    {
      "cell_type": "markdown",
      "metadata": {
        "id": "be058508"
      },
      "source": [
        "#**Resumen**:\n",
        "##Hallazgos Clave del Análisis de Datos\n",
        "El análisis se centró en los datos de incidencia de cáncer específicamente para Antioquia.\n",
        "\n",
        "*Se calculó la variación interanual de los casos de incidencia para cada tipo de cáncer y sexo.\n",
        "\n",
        "*Se calculó el crecimiento anual absoluto promedio para cada tipo de cáncer en ambos sexos.\n",
        "\n",
        "**El tipo de cáncer con el mayor crecimiento anual promedio en Antioquia es el de estómago, con un aumento promedio de aproximadamente 21,44 casos por año.\n",
        "\n",
        "##Perspectivas o Próximos Pasos\n",
        "\n",
        "**Investigaciones adicionales podrían explorar las posibles razones detrás del significativo crecimiento anual promedio de los casos de cáncer de estómago en Antioquia, considerando factores como el estilo de vida, las influencias ambientales o los cambios en las tasas de detección.\n",
        "Sería beneficioso analizar la tendencia de los casos de cáncer de estómago durante un período más largo o comparar la tasa de crecimiento en Antioquia con la de otras regiones para comprender si se trata de un fenómeno localizado o más amplio.\n"
      ]
    }
  ]
}